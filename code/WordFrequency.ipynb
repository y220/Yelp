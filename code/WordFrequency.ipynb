{
 "cells": [
  {
   "cell_type": "code",
   "execution_count": 59,
   "metadata": {},
   "outputs": [],
   "source": [
    "import pandas as pd\n",
    "import nltk\n",
    "import string\n",
    "import itertools\n",
    "import numpy as np\n",
    "\n",
    "from nltk.corpus import stopwords\n",
    "from nltk.stem.wordnet import WordNetLemmatizer\n",
    "from collections import Counter"
   ]
  },
  {
   "cell_type": "code",
   "execution_count": 60,
   "metadata": {},
   "outputs": [],
   "source": [
    "pizza=pd.read_csv('pizza_raw.csv',index_col=0)"
   ]
  },
  {
   "cell_type": "code",
   "execution_count": 61,
   "metadata": {},
   "outputs": [
    {
     "data": {
      "text/html": [
       "<div>\n",
       "<style scoped>\n",
       "    .dataframe tbody tr th:only-of-type {\n",
       "        vertical-align: middle;\n",
       "    }\n",
       "\n",
       "    .dataframe tbody tr th {\n",
       "        vertical-align: top;\n",
       "    }\n",
       "\n",
       "    .dataframe thead th {\n",
       "        text-align: right;\n",
       "    }\n",
       "</style>\n",
       "<table border=\"1\" class=\"dataframe\">\n",
       "  <thead>\n",
       "    <tr style=\"text-align: right;\">\n",
       "      <th></th>\n",
       "      <th>review_id</th>\n",
       "      <th>stars_x</th>\n",
       "      <th>text</th>\n",
       "      <th>name</th>\n",
       "      <th>city</th>\n",
       "      <th>state</th>\n",
       "      <th>stars_y</th>\n",
       "      <th>attributes</th>\n",
       "      <th>categories</th>\n",
       "      <th>hours</th>\n",
       "    </tr>\n",
       "  </thead>\n",
       "  <tbody>\n",
       "    <tr>\n",
       "      <th>0</th>\n",
       "      <td>hfXVxrlD6fr1kXfz6sR13Q</td>\n",
       "      <td>2</td>\n",
       "      <td>Parking is tough to get here so I don't get to...</td>\n",
       "      <td>Original Hot Dog Shop</td>\n",
       "      <td>Pittsburgh</td>\n",
       "      <td>PA</td>\n",
       "      <td>3.5</td>\n",
       "      <td>{'Caters': 'False', 'RestaurantsTakeOut': 'Tru...</td>\n",
       "      <td>Hot Dogs, Burgers, Restaurants, Pizza</td>\n",
       "      <td>{'Monday': '10:0-22:0', 'Tuesday': '10:0-22:0'...</td>\n",
       "    </tr>\n",
       "    <tr>\n",
       "      <th>1</th>\n",
       "      <td>EDQpLLFiAxeSxWI5ipwzBQ</td>\n",
       "      <td>4</td>\n",
       "      <td>The server had an extensive knowledge of wines...</td>\n",
       "      <td>Humble Wine Bar</td>\n",
       "      <td>Lakewood</td>\n",
       "      <td>OH</td>\n",
       "      <td>4.0</td>\n",
       "      <td>{'HasTV': 'True', 'Alcohol': \"u'full_bar'\", 'B...</td>\n",
       "      <td>Food, Tapas/Small Plates, Vegan, Desserts, Res...</td>\n",
       "      <td>{'Monday': '16:0-22:0', 'Tuesday': '16:0-22:0'...</td>\n",
       "    </tr>\n",
       "    <tr>\n",
       "      <th>2</th>\n",
       "      <td>RWmT90rP7wYo57dG1cyvww</td>\n",
       "      <td>5</td>\n",
       "      <td>Fast Forward\\n\\nEvery trip from NYC to Pitt in...</td>\n",
       "      <td>Aiello's Pizza</td>\n",
       "      <td>Pittsburgh</td>\n",
       "      <td>PA</td>\n",
       "      <td>4.0</td>\n",
       "      <td>{'BikeParking': 'True', 'Alcohol': \"u'beer_and...</td>\n",
       "      <td>Pizza, Italian, Restaurants, Beer Bar, Bars, N...</td>\n",
       "      <td>{'Monday': '11:0-1:0', 'Tuesday': '11:0-1:0', ...</td>\n",
       "    </tr>\n",
       "    <tr>\n",
       "      <th>3</th>\n",
       "      <td>0jduztItUhOh3FzKGjMxZQ</td>\n",
       "      <td>5</td>\n",
       "      <td>By far my favorite Cleveland/Akron restaurant!...</td>\n",
       "      <td>Russo's</td>\n",
       "      <td>Peninsula</td>\n",
       "      <td>OH</td>\n",
       "      <td>4.0</td>\n",
       "      <td>{'RestaurantsReservations': 'True', 'Restauran...</td>\n",
       "      <td>Italian, Sandwiches, Pizza, Bars, Cocktail Bar...</td>\n",
       "      <td>{'Tuesday': '17:0-21:0', 'Wednesday': '17:0-21...</td>\n",
       "    </tr>\n",
       "    <tr>\n",
       "      <th>4</th>\n",
       "      <td>sxfmzhMvZ8LlI1x4fhNjKg</td>\n",
       "      <td>4</td>\n",
       "      <td>All food is good here I usually get the Italia...</td>\n",
       "      <td>Tnt Dynamite Pizza &amp; Hoagies</td>\n",
       "      <td>Springdale</td>\n",
       "      <td>PA</td>\n",
       "      <td>3.0</td>\n",
       "      <td>{'RestaurantsTakeOut': 'True', 'HasTV': 'True'...</td>\n",
       "      <td>Restaurants, Pizza</td>\n",
       "      <td>NaN</td>\n",
       "    </tr>\n",
       "  </tbody>\n",
       "</table>\n",
       "</div>"
      ],
      "text/plain": [
       "                review_id  stars_x  \\\n",
       "0  hfXVxrlD6fr1kXfz6sR13Q        2   \n",
       "1  EDQpLLFiAxeSxWI5ipwzBQ        4   \n",
       "2  RWmT90rP7wYo57dG1cyvww        5   \n",
       "3  0jduztItUhOh3FzKGjMxZQ        5   \n",
       "4  sxfmzhMvZ8LlI1x4fhNjKg        4   \n",
       "\n",
       "                                                text  \\\n",
       "0  Parking is tough to get here so I don't get to...   \n",
       "1  The server had an extensive knowledge of wines...   \n",
       "2  Fast Forward\\n\\nEvery trip from NYC to Pitt in...   \n",
       "3  By far my favorite Cleveland/Akron restaurant!...   \n",
       "4  All food is good here I usually get the Italia...   \n",
       "\n",
       "                           name        city state  stars_y  \\\n",
       "0         Original Hot Dog Shop  Pittsburgh    PA      3.5   \n",
       "1               Humble Wine Bar    Lakewood    OH      4.0   \n",
       "2                Aiello's Pizza  Pittsburgh    PA      4.0   \n",
       "3                       Russo's   Peninsula    OH      4.0   \n",
       "4  Tnt Dynamite Pizza & Hoagies  Springdale    PA      3.0   \n",
       "\n",
       "                                          attributes  \\\n",
       "0  {'Caters': 'False', 'RestaurantsTakeOut': 'Tru...   \n",
       "1  {'HasTV': 'True', 'Alcohol': \"u'full_bar'\", 'B...   \n",
       "2  {'BikeParking': 'True', 'Alcohol': \"u'beer_and...   \n",
       "3  {'RestaurantsReservations': 'True', 'Restauran...   \n",
       "4  {'RestaurantsTakeOut': 'True', 'HasTV': 'True'...   \n",
       "\n",
       "                                          categories  \\\n",
       "0              Hot Dogs, Burgers, Restaurants, Pizza   \n",
       "1  Food, Tapas/Small Plates, Vegan, Desserts, Res...   \n",
       "2  Pizza, Italian, Restaurants, Beer Bar, Bars, N...   \n",
       "3  Italian, Sandwiches, Pizza, Bars, Cocktail Bar...   \n",
       "4                                 Restaurants, Pizza   \n",
       "\n",
       "                                               hours  \n",
       "0  {'Monday': '10:0-22:0', 'Tuesday': '10:0-22:0'...  \n",
       "1  {'Monday': '16:0-22:0', 'Tuesday': '16:0-22:0'...  \n",
       "2  {'Monday': '11:0-1:0', 'Tuesday': '11:0-1:0', ...  \n",
       "3  {'Tuesday': '17:0-21:0', 'Wednesday': '17:0-21...  \n",
       "4                                                NaN  "
      ]
     },
     "execution_count": 61,
     "metadata": {},
     "output_type": "execute_result"
    }
   ],
   "source": [
    "pizza.head()"
   ]
  },
  {
   "cell_type": "code",
   "execution_count": 62,
   "metadata": {},
   "outputs": [],
   "source": [
    "text = list(pizza.text)\n",
    "# Transform all words in text into lower cases\n",
    "text = [a.lower() for a in text]\n",
    "\n",
    "# Remove all punctuations in text\n",
    "text = [\"\".join([char for char in a if char not in string.punctuation]) for a in text]"
   ]
  },
  {
   "cell_type": "code",
   "execution_count": 63,
   "metadata": {},
   "outputs": [],
   "source": [
    "# Extract words in each review text\n",
    "words = [nltk.word_tokenize(a) for a in text]\n",
    "\n",
    "# Filter common Enlish words\n",
    "stop_words = stopwords.words('english')\n",
    "stop_words = [\"\".join([char for char in a if char not in string.punctuation]) for a in stop_words]\n",
    "filtered_words = [[word for word in a if word not in stop_words] for a in words]\n",
    "\n",
    "# Lemmatize words\n",
    "lmtzr = WordNetLemmatizer()\n",
    "lemmatized_words = [[lmtzr.lemmatize(x) for x in a] for a in filtered_words]"
   ]
  },
  {
   "cell_type": "code",
   "execution_count": 64,
   "metadata": {},
   "outputs": [
    {
     "data": {
      "text/html": [
       "<div>\n",
       "<style scoped>\n",
       "    .dataframe tbody tr th:only-of-type {\n",
       "        vertical-align: middle;\n",
       "    }\n",
       "\n",
       "    .dataframe tbody tr th {\n",
       "        vertical-align: top;\n",
       "    }\n",
       "\n",
       "    .dataframe thead th {\n",
       "        text-align: right;\n",
       "    }\n",
       "</style>\n",
       "<table border=\"1\" class=\"dataframe\">\n",
       "  <thead>\n",
       "    <tr style=\"text-align: right;\">\n",
       "      <th></th>\n",
       "      <th>0</th>\n",
       "    </tr>\n",
       "  </thead>\n",
       "  <tbody>\n",
       "    <tr>\n",
       "      <th>pizza</th>\n",
       "      <td>113385</td>\n",
       "    </tr>\n",
       "    <tr>\n",
       "      <th>good</th>\n",
       "      <td>45751</td>\n",
       "    </tr>\n",
       "    <tr>\n",
       "      <th>place</th>\n",
       "      <td>42345</td>\n",
       "    </tr>\n",
       "    <tr>\n",
       "      <th>food</th>\n",
       "      <td>39252</td>\n",
       "    </tr>\n",
       "    <tr>\n",
       "      <th>great</th>\n",
       "      <td>33372</td>\n",
       "    </tr>\n",
       "    <tr>\n",
       "      <th>...</th>\n",
       "      <td>...</td>\n",
       "    </tr>\n",
       "    <tr>\n",
       "      <th>snackindividual</th>\n",
       "      <td>1</td>\n",
       "    </tr>\n",
       "    <tr>\n",
       "      <th>casualstill</th>\n",
       "      <td>1</td>\n",
       "    </tr>\n",
       "    <tr>\n",
       "      <th>herbsparmesan</th>\n",
       "      <td>1</td>\n",
       "    </tr>\n",
       "    <tr>\n",
       "      <th>veganhalf</th>\n",
       "      <td>1</td>\n",
       "    </tr>\n",
       "    <tr>\n",
       "      <th>windownot</th>\n",
       "      <td>1</td>\n",
       "    </tr>\n",
       "  </tbody>\n",
       "</table>\n",
       "<p>66415 rows × 1 columns</p>\n",
       "</div>"
      ],
      "text/plain": [
       "                      0\n",
       "pizza            113385\n",
       "good              45751\n",
       "place             42345\n",
       "food              39252\n",
       "great             33372\n",
       "...                 ...\n",
       "snackindividual       1\n",
       "casualstill           1\n",
       "herbsparmesan         1\n",
       "veganhalf             1\n",
       "windownot             1\n",
       "\n",
       "[66415 rows x 1 columns]"
      ]
     },
     "execution_count": 64,
     "metadata": {},
     "output_type": "execute_result"
    }
   ],
   "source": [
    "# Count Words Frequency\n",
    "word_list = list(itertools.chain.from_iterable(lemmatized_words))\n",
    "freq = pd.DataFrame.from_dict(Counter(word_list), orient='index')\n",
    "freq.sort_values(by=0, ascending=False)"
   ]
  },
  {
   "cell_type": "code",
   "execution_count": 65,
   "metadata": {},
   "outputs": [
    {
     "data": {
      "text/plain": [
       "1135"
      ]
     },
     "execution_count": 65,
     "metadata": {},
     "output_type": "execute_result"
    }
   ],
   "source": [
    "# Create a word dictionary\n",
    "dictionary = list(freq[freq[0] > 500].index) ## Select words that occur more than 500 times.\n",
    "len(dictionary)"
   ]
  },
  {
   "cell_type": "code",
   "execution_count": 66,
   "metadata": {},
   "outputs": [],
   "source": [
    "# Word embedding\n",
    "word_embedding = np.zeros([len(lemmatized_words), len(dictionary)])\n",
    "for i,x in enumerate(lemmatized_words):\n",
    "    for j,y in enumerate(dictionary):\n",
    "        word_embedding[i,j] = sum([z == y for z in x])"
   ]
  },
  {
   "cell_type": "code",
   "execution_count": 67,
   "metadata": {},
   "outputs": [
    {
     "data": {
      "text/plain": [
       "array([[1., 1., 5., ..., 0., 0., 0.],\n",
       "       [0., 0., 0., ..., 0., 0., 0.],\n",
       "       [0., 0., 0., ..., 0., 0., 0.],\n",
       "       ...,\n",
       "       [0., 0., 0., ..., 0., 0., 0.],\n",
       "       [0., 0., 0., ..., 0., 0., 0.],\n",
       "       [0., 0., 0., ..., 0., 0., 0.]])"
      ]
     },
     "execution_count": 67,
     "metadata": {},
     "output_type": "execute_result"
    }
   ],
   "source": [
    "word_embedding"
   ]
  },
  {
   "cell_type": "code",
   "execution_count": 68,
   "metadata": {},
   "outputs": [],
   "source": [
    "df = pd.concat([pizza, pd.DataFrame(word_embedding, columns=dictionary)], axis=1)\n",
    "df = df.drop(columns=[\"review_id\",\"text\"])\n",
    "df.head()"
   ]
  },
  {
   "cell_type": "code",
   "execution_count": null,
   "metadata": {},
   "outputs": [],
   "source": [
    "df.to_csv('WordEmbeddingPy.csv')"
   ]
  }
 ],
 "metadata": {
  "kernelspec": {
   "display_name": "Python 3",
   "language": "python",
   "name": "python3"
  },
  "language_info": {
   "codemirror_mode": {
    "name": "ipython",
    "version": 3
   },
   "file_extension": ".py",
   "mimetype": "text/x-python",
   "name": "python",
   "nbconvert_exporter": "python",
   "pygments_lexer": "ipython3",
   "version": "3.8.3"
  }
 },
 "nbformat": 4,
 "nbformat_minor": 4
}
